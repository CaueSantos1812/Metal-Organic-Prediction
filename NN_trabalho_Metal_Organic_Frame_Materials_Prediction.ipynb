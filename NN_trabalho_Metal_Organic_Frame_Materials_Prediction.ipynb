{
 "cells": [
  {
   "cell_type": "markdown",
   "id": "caacea91",
   "metadata": {},
   "source": [
    "# <font color='green'>Metal-Organic Frame Materials Prediction</font>\n",
    "___________________________\n",
    "## Redes Neurais\n",
    "___________________________\n",
    "#### Alunos: Cauê Gomes Correia Santos, Izaque Junior Oliveira Silva e Karla Rovedo Pascoalini\n",
    "#### Professor: Daniel Roberto Cassar\n",
    "_____"
   ]
  },
  {
   "cell_type": "markdown",
   "id": "e70607c7",
   "metadata": {},
   "source": [
    "**Resumo do Problema**\n",
    "\n",
    "**De onde vieram nossos dados?**\n",
    "\n",
    "**Features**\n",
    "\n",
    "**Targets**\n",
    "\n",
    "**O que são MOFs**\n",
    "\n",
    "**O que utilizamos como base para o código**\n",
    "\n",
    "____\n",
    "**Montar o script**"
   ]
  },
  {
   "cell_type": "markdown",
   "id": "b99e390e",
   "metadata": {},
   "source": [
    "Divisão do notebook:\n",
    "\n",
    "[1] Adquirindo dados\n",
    "\n",
    "[3] Tratamento de Dados\n",
    "\n",
    "[2] Analisando dados\n",
    "\n",
    "[4] Diminuindo Dimensionalidade\n",
    "\n",
    "[5] Separando Target e Features\n",
    "\n",
    "[6] Implementando a Rede Neural\n",
    "\n",
    "[7] Curva de Aprendizado\n",
    "\n",
    "[8] Otimização de Hiperparâmetros \n",
    "\n",
    "[9] Cálculo RMSE\n",
    "\n",
    "[10] Conclusão\n",
    "\n",
    "[11] Agradecimentos\n",
    "\n",
    "[12] Referências bibliográficas"
   ]
  },
  {
   "cell_type": "code",
   "execution_count": 1099,
   "id": "d19422a2",
   "metadata": {},
   "outputs": [],
   "source": [
    "import pandas as pd\n",
    "from rdkit import Chem\n",
    "from rdkit.Chem import AllChem as al\n",
    "from rdkit.Chem import Draw, AllChem, Descriptors\n",
    "from cod_izaque import converte\n",
    "import numpy as np\n",
    "from sklearn.model_selection import train_test_split\n",
    "import lightning as L\n",
    "import matplotlib.pyplot as plt\n",
    "import pickle\n",
    "import torch\n",
    "import torch.nn as nn\n",
    "import torch.optim as optim\n",
    "from scipy import stats\n",
    "from sklearn.metrics import mean_squared_error\n",
    "from sklearn.preprocessing import MaxAbsScaler\n",
    "from torch.nn import functional as F\n",
    "from torch.utils.data import DataLoader, TensorDataset"
   ]
  },
  {
   "cell_type": "markdown",
   "id": "de4282f0",
   "metadata": {},
   "source": [
    "## 1-  Adquirindo Dados\n",
    "\n",
    "___"
   ]
  },
  {
   "cell_type": "markdown",
   "id": "9ca58d06",
   "metadata": {},
   "source": [
    "Os nossos dados adveêm do site `Kaggle` e fazem parte da tarefa: `Metal-Organic Frame Materials Prediction`"
   ]
  },
  {
   "cell_type": "code",
   "execution_count": 1100,
   "id": "b398c175",
   "metadata": {},
   "outputs": [],
   "source": [
    "dados_treino_finger = pd.read_csv(r\"dados_treino\\finger_train.csv\", sep=',', header=0)\n",
    "dados_treino_RAC = pd.read_csv(r\"dados_treino\\RAC_train.csv\", sep=',', header=0)\n",
    "dados_teste_RAC = pd.read_csv(r\"dados_teste\\RAC_test.csv\", sep=',', header=0)\n",
    "dados_teste_finger = pd.read_csv(r\"dados_teste\\finger_test.csv\", sep=',', header=0)\n",
    "dados_conf_ele_correct = pd.read_csv(\"electronic_configuration.csv\", sep=',', header=0)"
   ]
  },
  {
   "cell_type": "markdown",
   "id": "a6654ac1",
   "metadata": {},
   "source": [
    "## 2 - Análise de Dados\n",
    "___"
   ]
  },
  {
   "cell_type": "markdown",
   "id": "060380e5",
   "metadata": {},
   "source": [
    "### Identificando Dados presentes em ambos DFs"
   ]
  },
  {
   "cell_type": "code",
   "execution_count": 1101,
   "id": "83e172d5",
   "metadata": {},
   "outputs": [],
   "source": [
    "def enc_intersection(dados1, dados2):\n",
    "    a = set(list(dados1))\n",
    "    b = set(list(dados2))\n",
    "    \n",
    "    c = a.intersection(b)\n",
    "    \n",
    "    return c"
   ]
  },
  {
   "cell_type": "code",
   "execution_count": 1102,
   "id": "5ffde13a",
   "metadata": {},
   "outputs": [],
   "source": [
    "intercecao_treino = enc_intersection(dados_treino_finger['mof'].values, dados_treino_RAC['mof'].values)\n",
    "intercecao_teste = enc_intersection(dados_teste_finger['mof'].values, dados_teste_RAC['mof'].values)"
   ]
  },
  {
   "cell_type": "code",
   "execution_count": 1103,
   "id": "32da6f13",
   "metadata": {},
   "outputs": [],
   "source": [
    "#aplicando filtro para \n",
    "dados_fingertrain_filtrado = dados_treino_finger.loc[dados_treino_finger['mof'].isin(intercecao_treino)] #referncia: https://pt.stackoverflow.com/questions/309037/filtrar-linhas-no-pandas-por-uma-lista\n",
    "dados_ractrain_filtrado = dados_treino_RAC.loc[dados_treino_RAC['mof'].isin(intercecao_treino)]\n",
    "dados_fingertest_filtrado = dados_teste_finger.loc[dados_teste_finger['mof'].isin(intercecao_teste)] #referncia: https://pt.stackoverflow.com/questions/309037/filtrar-linhas-no-pandas-por-uma-lista\n",
    "dados_ractest_filtrado = dados_teste_RAC.loc[dados_teste_RAC['mof'].isin(intercecao_teste)]"
   ]
  },
  {
   "cell_type": "markdown",
   "id": "9c41e865",
   "metadata": {},
   "source": [
    "### Verificando o tipo de dado no DataFrame"
   ]
  },
  {
   "cell_type": "code",
   "execution_count": 1104,
   "id": "b2d6872c",
   "metadata": {
    "tags": []
   },
   "outputs": [
    {
     "name": "stdout",
     "output_type": "stream",
     "text": [
      "<class 'pandas.core.frame.DataFrame'>\n",
      "Int64Index: 361 entries, 0 to 513\n",
      "Data columns (total 24 columns):\n",
      " #   Column           Non-Null Count  Dtype  \n",
      "---  ------           --------------  -----  \n",
      " 0   mof              361 non-null    object \n",
      " 1   1s               361 non-null    int64  \n",
      " 2   2s               361 non-null    int64  \n",
      " 3   3s               361 non-null    int64  \n",
      " 4   4s               361 non-null    int64  \n",
      " 5   5s               361 non-null    int64  \n",
      " 6   6s               361 non-null    int64  \n",
      " 7   7s               361 non-null    int64  \n",
      " 8   2p               361 non-null    int64  \n",
      " 9   3p               361 non-null    int64  \n",
      " 10  4p               361 non-null    int64  \n",
      " 11  5p               361 non-null    int64  \n",
      " 12  6p               361 non-null    int64  \n",
      " 13  3d               361 non-null    int64  \n",
      " 14  4d               361 non-null    int64  \n",
      " 15  5d               361 non-null    int64  \n",
      " 16  6d               361 non-null    int64  \n",
      " 17  4f               361 non-null    int64  \n",
      " 18  5f               361 non-null    int64  \n",
      " 19  metal            361 non-null    object \n",
      " 20  linker1smi       361 non-null    object \n",
      " 21  oxidation_state  361 non-null    int64  \n",
      " 22  temperature      361 non-null    int64  \n",
      " 23  time             361 non-null    float64\n",
      "dtypes: float64(1), int64(20), object(3)\n",
      "memory usage: 70.5+ KB\n"
     ]
    }
   ],
   "source": [
    "dados_fingertrain_filtrado.info()"
   ]
  },
  {
   "cell_type": "code",
   "execution_count": 1105,
   "id": "003cbd97",
   "metadata": {
    "tags": []
   },
   "outputs": [
    {
     "name": "stdout",
     "output_type": "stream",
     "text": [
      "<class 'pandas.core.frame.DataFrame'>\n",
      "Int64Index: 361 entries, 0 to 534\n",
      "Columns: 354 entries, mof to additive_category\n",
      "dtypes: float64(260), int64(93), object(1)\n",
      "memory usage: 1001.2+ KB\n"
     ]
    }
   ],
   "source": [
    "dados_ractrain_filtrado.info()"
   ]
  },
  {
   "cell_type": "code",
   "execution_count": 1106,
   "id": "2fa6c51f",
   "metadata": {
    "tags": []
   },
   "outputs": [
    {
     "name": "stdout",
     "output_type": "stream",
     "text": [
      "<class 'pandas.core.frame.DataFrame'>\n",
      "Int64Index: 134 entries, 0 to 133\n",
      "Data columns (total 22 columns):\n",
      " #   Column           Non-Null Count  Dtype \n",
      "---  ------           --------------  ----- \n",
      " 0   mof              134 non-null    int64 \n",
      " 1   1s               134 non-null    int64 \n",
      " 2   2s               134 non-null    int64 \n",
      " 3   3s               134 non-null    int64 \n",
      " 4   4s               134 non-null    int64 \n",
      " 5   5s               134 non-null    int64 \n",
      " 6   6s               134 non-null    int64 \n",
      " 7   7s               134 non-null    int64 \n",
      " 8   2p               134 non-null    int64 \n",
      " 9   3p               134 non-null    int64 \n",
      " 10  4p               134 non-null    int64 \n",
      " 11  5p               134 non-null    int64 \n",
      " 12  6p               134 non-null    int64 \n",
      " 13  3d               134 non-null    int64 \n",
      " 14  4d               134 non-null    int64 \n",
      " 15  5d               134 non-null    int64 \n",
      " 16  6d               134 non-null    int64 \n",
      " 17  4f               134 non-null    int64 \n",
      " 18  5f               134 non-null    int64 \n",
      " 19  metal            134 non-null    object\n",
      " 20  linker1smi       134 non-null    object\n",
      " 21  oxidation_state  134 non-null    int64 \n",
      "dtypes: int64(20), object(2)\n",
      "memory usage: 24.1+ KB\n"
     ]
    }
   ],
   "source": [
    "dados_fingertest_filtrado.info()"
   ]
  },
  {
   "cell_type": "code",
   "execution_count": 1107,
   "id": "caecfdde",
   "metadata": {
    "tags": []
   },
   "outputs": [
    {
     "name": "stdout",
     "output_type": "stream",
     "text": [
      "<class 'pandas.core.frame.DataFrame'>\n",
      "Int64Index: 134 entries, 0 to 133\n",
      "Columns: 342 entries, mof to CH4HPSTP\n",
      "dtypes: float64(255), int64(87)\n",
      "memory usage: 359.1 KB\n"
     ]
    }
   ],
   "source": [
    "dados_ractest_filtrado.info()"
   ]
  },
  {
   "cell_type": "markdown",
   "id": "a397a2f1",
   "metadata": {},
   "source": [
    "### Encontrando os dados `object` e convertendo"
   ]
  },
  {
   "cell_type": "code",
   "execution_count": 1108,
   "id": "89f5e6d0",
   "metadata": {
    "tags": []
   },
   "outputs": [
    {
     "data": {
      "text/html": [
       "<div>\n",
       "<style scoped>\n",
       "    .dataframe tbody tr th:only-of-type {\n",
       "        vertical-align: middle;\n",
       "    }\n",
       "\n",
       "    .dataframe tbody tr th {\n",
       "        vertical-align: top;\n",
       "    }\n",
       "\n",
       "    .dataframe thead th {\n",
       "        text-align: right;\n",
       "    }\n",
       "</style>\n",
       "<table border=\"1\" class=\"dataframe\">\n",
       "  <thead>\n",
       "    <tr style=\"text-align: right;\">\n",
       "      <th></th>\n",
       "      <th>mof</th>\n",
       "      <th>metal</th>\n",
       "      <th>linker1smi</th>\n",
       "    </tr>\n",
       "  </thead>\n",
       "  <tbody>\n",
       "    <tr>\n",
       "      <th>0</th>\n",
       "      <td>WIRMOB_clean</td>\n",
       "      <td>Zn</td>\n",
       "      <td>O=C(O)c1ccc(COc2c3c(c(OCc4ccc(C(=O)O)cc4)c4c2C...</td>\n",
       "    </tr>\n",
       "    <tr>\n",
       "      <th>1</th>\n",
       "      <td>VIXTUT_clean</td>\n",
       "      <td>Zn</td>\n",
       "      <td>c1cc(CCc2ccncc2)ccn1</td>\n",
       "    </tr>\n",
       "    <tr>\n",
       "      <th>2</th>\n",
       "      <td>PODKUQ_clean</td>\n",
       "      <td>Cu</td>\n",
       "      <td>O=C(O)c1cc(C(=O)O)cc(-n2cc(-c3ccc(-c4cc(-c5ccc...</td>\n",
       "    </tr>\n",
       "    <tr>\n",
       "      <th>3</th>\n",
       "      <td>IKUTOZ_clean</td>\n",
       "      <td>Dy</td>\n",
       "      <td>O=C(O)c1c2ccccc2c(C(=O)O)c2ccccc12</td>\n",
       "    </tr>\n",
       "    <tr>\n",
       "      <th>4</th>\n",
       "      <td>LADHEF_clean</td>\n",
       "      <td>Zn</td>\n",
       "      <td>c1nnc[nH]1</td>\n",
       "    </tr>\n",
       "    <tr>\n",
       "      <th>...</th>\n",
       "      <td>...</td>\n",
       "      <td>...</td>\n",
       "      <td>...</td>\n",
       "    </tr>\n",
       "    <tr>\n",
       "      <th>507</th>\n",
       "      <td>LIKGUJ_clean</td>\n",
       "      <td>Cu</td>\n",
       "      <td>O=C1OC(=O)C2=C3C1=CC1C(=O)OC(=O)C4=C1C3C1=C(C4...</td>\n",
       "    </tr>\n",
       "    <tr>\n",
       "      <th>508</th>\n",
       "      <td>ZALMIL_clean</td>\n",
       "      <td>Co</td>\n",
       "      <td>O=C(O)C1CC(C(=O)O)C(C(=O)O)CC1C(=O)O</td>\n",
       "    </tr>\n",
       "    <tr>\n",
       "      <th>509</th>\n",
       "      <td>BINROH_clean</td>\n",
       "      <td>Cu</td>\n",
       "      <td>O=C(O)c1ccc2cc(-c3cc(-c4ccc5cc(C(=O)O)ccc5c4)c...</td>\n",
       "    </tr>\n",
       "    <tr>\n",
       "      <th>511</th>\n",
       "      <td>TAGTUT_clean</td>\n",
       "      <td>Mg</td>\n",
       "      <td>O=C(O)c1ccc2cc(C(=O)O)ccc2c1</td>\n",
       "    </tr>\n",
       "    <tr>\n",
       "      <th>513</th>\n",
       "      <td>FOJLOH_clean</td>\n",
       "      <td>Zn</td>\n",
       "      <td>Cc1c(COc2ccc(C(=O)O)cc2)c(C)c(COc2ccc(C(=O)O)c...</td>\n",
       "    </tr>\n",
       "  </tbody>\n",
       "</table>\n",
       "<p>361 rows × 3 columns</p>\n",
       "</div>"
      ],
      "text/plain": [
       "              mof metal                                         linker1smi\n",
       "0    WIRMOB_clean    Zn  O=C(O)c1ccc(COc2c3c(c(OCc4ccc(C(=O)O)cc4)c4c2C...\n",
       "1    VIXTUT_clean    Zn                               c1cc(CCc2ccncc2)ccn1\n",
       "2    PODKUQ_clean    Cu  O=C(O)c1cc(C(=O)O)cc(-n2cc(-c3ccc(-c4cc(-c5ccc...\n",
       "3    IKUTOZ_clean    Dy                 O=C(O)c1c2ccccc2c(C(=O)O)c2ccccc12\n",
       "4    LADHEF_clean    Zn                                         c1nnc[nH]1\n",
       "..            ...   ...                                                ...\n",
       "507  LIKGUJ_clean    Cu  O=C1OC(=O)C2=C3C1=CC1C(=O)OC(=O)C4=C1C3C1=C(C4...\n",
       "508  ZALMIL_clean    Co               O=C(O)C1CC(C(=O)O)C(C(=O)O)CC1C(=O)O\n",
       "509  BINROH_clean    Cu  O=C(O)c1ccc2cc(-c3cc(-c4ccc5cc(C(=O)O)ccc5c4)c...\n",
       "511  TAGTUT_clean    Mg                       O=C(O)c1ccc2cc(C(=O)O)ccc2c1\n",
       "513  FOJLOH_clean    Zn  Cc1c(COc2ccc(C(=O)O)cc2)c(C)c(COc2ccc(C(=O)O)c...\n",
       "\n",
       "[361 rows x 3 columns]"
      ]
     },
     "execution_count": 1108,
     "metadata": {},
     "output_type": "execute_result"
    }
   ],
   "source": [
    "dados_fingertrain_filtrado.select_dtypes(include='object')"
   ]
  },
  {
   "cell_type": "code",
   "execution_count": 1109,
   "id": "15cf9410",
   "metadata": {
    "tags": []
   },
   "outputs": [
    {
     "data": {
      "text/html": [
       "<div>\n",
       "<style scoped>\n",
       "    .dataframe tbody tr th:only-of-type {\n",
       "        vertical-align: middle;\n",
       "    }\n",
       "\n",
       "    .dataframe tbody tr th {\n",
       "        vertical-align: top;\n",
       "    }\n",
       "\n",
       "    .dataframe thead th {\n",
       "        text-align: right;\n",
       "    }\n",
       "</style>\n",
       "<table border=\"1\" class=\"dataframe\">\n",
       "  <thead>\n",
       "    <tr style=\"text-align: right;\">\n",
       "      <th></th>\n",
       "      <th>metal</th>\n",
       "      <th>linker1smi</th>\n",
       "    </tr>\n",
       "  </thead>\n",
       "  <tbody>\n",
       "    <tr>\n",
       "      <th>0</th>\n",
       "      <td>Zn</td>\n",
       "      <td>Nc1ncnc2nc[nH]c12</td>\n",
       "    </tr>\n",
       "    <tr>\n",
       "      <th>1</th>\n",
       "      <td>Cu</td>\n",
       "      <td>O=C(O)c1cc(C(=O)O)cc(-c2cc(-c3cc(C(=O)O)cc(C(=...</td>\n",
       "    </tr>\n",
       "    <tr>\n",
       "      <th>2</th>\n",
       "      <td>Mg</td>\n",
       "      <td>O=C(O)c1ccc2cc(C(=O)O)ccc2c1</td>\n",
       "    </tr>\n",
       "    <tr>\n",
       "      <th>3</th>\n",
       "      <td>Gd</td>\n",
       "      <td>O=C(O)c1ccc2[nH]c(-c3ccc(-c4nc5ccc(C(=O)O)cc5[...</td>\n",
       "    </tr>\n",
       "    <tr>\n",
       "      <th>4</th>\n",
       "      <td>Cu</td>\n",
       "      <td>O=C(O)c1cncc(C(=O)O)c1</td>\n",
       "    </tr>\n",
       "    <tr>\n",
       "      <th>...</th>\n",
       "      <td>...</td>\n",
       "      <td>...</td>\n",
       "    </tr>\n",
       "    <tr>\n",
       "      <th>129</th>\n",
       "      <td>Fe</td>\n",
       "      <td>[O-]C(=O)C1=[C]C2=C(S1)C1=[C]C(=[C]C1=C1[C]2[C...</td>\n",
       "    </tr>\n",
       "    <tr>\n",
       "      <th>130</th>\n",
       "      <td>Fe</td>\n",
       "      <td>[O-]C(=O)c1cc(C=Cc2cc(cc(c2)C(=O)O)C(=O)[O-])c...</td>\n",
       "    </tr>\n",
       "    <tr>\n",
       "      <th>131</th>\n",
       "      <td>Mn</td>\n",
       "      <td>[O-]C(=O)c1ccc(cc1)[Si](c1ccc(cc1)C(=O)[O-])(c...</td>\n",
       "    </tr>\n",
       "    <tr>\n",
       "      <th>132</th>\n",
       "      <td>Cd</td>\n",
       "      <td>[O-]C(=O)c1ccc(cc1)[Si](c1ccc(cc1)C(=O)[O-])(c...</td>\n",
       "    </tr>\n",
       "    <tr>\n",
       "      <th>133</th>\n",
       "      <td>Cu</td>\n",
       "      <td>[O-]C(=O)C1=C[C]=CC(=C1)C(=O)[O-]</td>\n",
       "    </tr>\n",
       "  </tbody>\n",
       "</table>\n",
       "<p>134 rows × 2 columns</p>\n",
       "</div>"
      ],
      "text/plain": [
       "    metal                                         linker1smi\n",
       "0      Zn                                  Nc1ncnc2nc[nH]c12\n",
       "1      Cu  O=C(O)c1cc(C(=O)O)cc(-c2cc(-c3cc(C(=O)O)cc(C(=...\n",
       "2      Mg                       O=C(O)c1ccc2cc(C(=O)O)ccc2c1\n",
       "3      Gd  O=C(O)c1ccc2[nH]c(-c3ccc(-c4nc5ccc(C(=O)O)cc5[...\n",
       "4      Cu                             O=C(O)c1cncc(C(=O)O)c1\n",
       "..    ...                                                ...\n",
       "129    Fe  [O-]C(=O)C1=[C]C2=C(S1)C1=[C]C(=[C]C1=C1[C]2[C...\n",
       "130    Fe  [O-]C(=O)c1cc(C=Cc2cc(cc(c2)C(=O)O)C(=O)[O-])c...\n",
       "131    Mn  [O-]C(=O)c1ccc(cc1)[Si](c1ccc(cc1)C(=O)[O-])(c...\n",
       "132    Cd  [O-]C(=O)c1ccc(cc1)[Si](c1ccc(cc1)C(=O)[O-])(c...\n",
       "133    Cu                  [O-]C(=O)C1=C[C]=CC(=C1)C(=O)[O-]\n",
       "\n",
       "[134 rows x 2 columns]"
      ]
     },
     "execution_count": 1109,
     "metadata": {},
     "output_type": "execute_result"
    }
   ],
   "source": [
    "dados_fingertest_filtrado.select_dtypes(include='object')"
   ]
  },
  {
   "cell_type": "code",
   "execution_count": 1110,
   "id": "b555341c",
   "metadata": {
    "tags": []
   },
   "outputs": [
    {
     "data": {
      "text/html": [
       "<div>\n",
       "<style scoped>\n",
       "    .dataframe tbody tr th:only-of-type {\n",
       "        vertical-align: middle;\n",
       "    }\n",
       "\n",
       "    .dataframe tbody tr th {\n",
       "        vertical-align: top;\n",
       "    }\n",
       "\n",
       "    .dataframe thead th {\n",
       "        text-align: right;\n",
       "    }\n",
       "</style>\n",
       "<table border=\"1\" class=\"dataframe\">\n",
       "  <thead>\n",
       "    <tr style=\"text-align: right;\">\n",
       "      <th></th>\n",
       "      <th>mof</th>\n",
       "    </tr>\n",
       "  </thead>\n",
       "  <tbody>\n",
       "    <tr>\n",
       "      <th>0</th>\n",
       "      <td>QUHMOX_clean</td>\n",
       "    </tr>\n",
       "    <tr>\n",
       "      <th>1</th>\n",
       "      <td>VOLPET_clean</td>\n",
       "    </tr>\n",
       "    <tr>\n",
       "      <th>2</th>\n",
       "      <td>XUHVON_clean</td>\n",
       "    </tr>\n",
       "    <tr>\n",
       "      <th>3</th>\n",
       "      <td>KIDDOS_clean</td>\n",
       "    </tr>\n",
       "    <tr>\n",
       "      <th>4</th>\n",
       "      <td>FURFOP_clean</td>\n",
       "    </tr>\n",
       "    <tr>\n",
       "      <th>...</th>\n",
       "      <td>...</td>\n",
       "    </tr>\n",
       "    <tr>\n",
       "      <th>530</th>\n",
       "      <td>YIPDOR_clean</td>\n",
       "    </tr>\n",
       "    <tr>\n",
       "      <th>531</th>\n",
       "      <td>EREGOY_clean</td>\n",
       "    </tr>\n",
       "    <tr>\n",
       "      <th>532</th>\n",
       "      <td>MAYKOO_clean</td>\n",
       "    </tr>\n",
       "    <tr>\n",
       "      <th>533</th>\n",
       "      <td>ADASEF_clean</td>\n",
       "    </tr>\n",
       "    <tr>\n",
       "      <th>534</th>\n",
       "      <td>KUQWIE_clean</td>\n",
       "    </tr>\n",
       "  </tbody>\n",
       "</table>\n",
       "<p>361 rows × 1 columns</p>\n",
       "</div>"
      ],
      "text/plain": [
       "              mof\n",
       "0    QUHMOX_clean\n",
       "1    VOLPET_clean\n",
       "2    XUHVON_clean\n",
       "3    KIDDOS_clean\n",
       "4    FURFOP_clean\n",
       "..            ...\n",
       "530  YIPDOR_clean\n",
       "531  EREGOY_clean\n",
       "532  MAYKOO_clean\n",
       "533  ADASEF_clean\n",
       "534  KUQWIE_clean\n",
       "\n",
       "[361 rows x 1 columns]"
      ]
     },
     "execution_count": 1110,
     "metadata": {},
     "output_type": "execute_result"
    }
   ],
   "source": [
    "dados_ractrain_filtrado.select_dtypes(include='object')"
   ]
  },
  {
   "cell_type": "markdown",
   "id": "ce4a929f",
   "metadata": {},
   "source": [
    "As colunas que o pandas identifica como do tipo `object` são todas do tipo `string`. Vamos convertê-las."
   ]
  },
  {
   "cell_type": "code",
   "execution_count": 1111,
   "id": "ccf9fc28",
   "metadata": {},
   "outputs": [],
   "source": [
    "lista = ['mof', 'metal', 'linker1smi']\n",
    "\n",
    "def converte_datatype(df, lista_com_colunas_covrt, type_converte):\n",
    "    for coluna in lista_com_colunas_covrt:\n",
    "        df[coluna] = converte(df[coluna], type_converte)"
   ]
  },
  {
   "cell_type": "code",
   "execution_count": 1112,
   "id": "d020c8a8",
   "metadata": {},
   "outputs": [
    {
     "name": "stderr",
     "output_type": "stream",
     "text": [
      "C:\\Users\\izaque23003\\AppData\\Local\\Temp\\ipykernel_12472\\1425689555.py:5: SettingWithCopyWarning: \n",
      "A value is trying to be set on a copy of a slice from a DataFrame.\n",
      "Try using .loc[row_indexer,col_indexer] = value instead\n",
      "\n",
      "See the caveats in the documentation: https://pandas.pydata.org/pandas-docs/stable/user_guide/indexing.html#returning-a-view-versus-a-copy\n",
      "  df[coluna] = converte(df[coluna], type_converte)\n"
     ]
    }
   ],
   "source": [
    "converte_datatype(dados_fingertrain_filtrado, lista, 'string')\n",
    "converte_datatype(dados_fingertest_filtrado, lista[1:], 'string')\n",
    "converte_datatype(dados_ractrain_filtrado, lista[:1], 'string')"
   ]
  },
  {
   "cell_type": "markdown",
   "id": "a27a2db3",
   "metadata": {},
   "source": [
    "### Verificando presença de dados não preenchidos"
   ]
  },
  {
   "cell_type": "code",
   "execution_count": 1113,
   "id": "9412f0cc",
   "metadata": {
    "scrolled": true,
    "tags": []
   },
   "outputs": [
    {
     "name": "stdout",
     "output_type": "stream",
     "text": [
      "[0, 0, 0, 0, 0, 0, 0, 0, 0, 0, 0, 0, 0, 0, 0, 0, 0, 0, 0, 0, 0, 0, 0, 0]\n"
     ]
    }
   ],
   "source": [
    "print(list(dados_fingertrain_filtrado.isnull().sum()))"
   ]
  },
  {
   "cell_type": "code",
   "execution_count": 1114,
   "id": "0b0b0bc1",
   "metadata": {},
   "outputs": [
    {
     "name": "stdout",
     "output_type": "stream",
     "text": [
      "[0, 0, 0, 0, 0, 0, 0, 0, 0, 0, 0, 0, 0, 0, 0, 0, 0, 0, 0, 0, 0, 0]\n"
     ]
    }
   ],
   "source": [
    "print(list(dados_fingertest_filtrado.isnull().sum()))"
   ]
  },
  {
   "cell_type": "code",
   "execution_count": 1115,
   "id": "6fcddb6c",
   "metadata": {
    "tags": []
   },
   "outputs": [
    {
     "name": "stdout",
     "output_type": "stream",
     "text": [
      "[0, 0, 0, 0, 0, 0, 0, 0, 0, 0, 0, 0, 0, 0, 0, 0, 0, 0, 0, 0, 0, 0, 0, 0, 0, 0, 0, 0, 0, 0, 0, 0, 0, 0, 0, 0, 0, 0, 0, 0, 0, 0, 0, 0, 0, 0, 0, 0, 0, 0, 0, 0, 0, 0, 0, 0, 0, 0, 0, 0, 0, 0, 0, 0, 0, 0, 0, 0, 0, 0, 0, 0, 0, 0, 0, 0, 0, 0, 0, 0, 0, 0, 0, 0, 0, 0, 0, 0, 0, 0, 0, 0, 0, 0, 0, 0, 0, 0, 0, 0, 0, 0, 0, 0, 0, 0, 0, 0, 0, 0, 0, 0, 0, 0, 0, 0, 0, 0, 0, 0, 0, 0, 0, 0, 0, 0, 0, 0, 0, 0, 0, 0, 0, 0, 0, 0, 0, 0, 0, 0, 0, 0, 0, 0, 0, 0, 0, 0, 0, 0, 0, 0, 0, 0, 0, 0, 0, 0, 0, 0, 0, 0, 0, 0, 0, 0, 0, 0, 0, 0, 0, 0, 0, 0, 0, 0, 0, 0, 0, 0, 0, 0, 0, 0, 0, 0, 0, 0, 0, 0, 0, 0, 0, 0, 0, 0, 0, 0, 0, 0, 0, 0, 0, 0, 0, 0, 0, 0, 0, 0, 0, 0, 0, 0, 0, 0, 0, 0, 0, 0, 0, 0, 0, 0, 0, 0, 0, 0, 0, 0, 0, 0, 0, 0, 0, 0, 0, 0, 0, 0, 0, 0, 0, 0, 0, 0, 0, 0, 0, 0, 0, 0, 0, 0, 0, 0, 0, 0, 0, 0, 0, 0, 0, 0, 0, 0, 0, 0, 0, 0, 0, 0, 0, 0, 0, 0, 0, 0, 0, 0, 0, 0, 0, 0, 0, 0, 0, 0, 0, 0, 0, 0, 0, 0, 0, 0, 0, 0, 0, 0, 0, 0, 0, 0, 0, 0, 0, 0, 0, 0, 0, 0, 0, 0, 0, 0, 0, 0, 0, 0, 0, 0, 0, 0, 0, 0, 0, 0, 0, 0, 0, 0, 0, 0, 0, 0, 0, 0, 0, 0, 0, 0, 0, 0, 0, 0, 0, 0, 0, 0, 0, 0, 0, 0]\n"
     ]
    }
   ],
   "source": [
    "print(list(dados_ractrain_filtrado.isnull().sum()))"
   ]
  },
  {
   "cell_type": "code",
   "execution_count": 1116,
   "id": "98e81efc",
   "metadata": {},
   "outputs": [
    {
     "name": "stdout",
     "output_type": "stream",
     "text": [
      "[0, 0, 0, 0, 0, 0, 0, 0, 0, 0, 0, 0, 0, 0, 0, 0, 0, 0, 0, 0, 0, 0, 0, 0, 0, 0, 0, 0, 0, 0, 0, 0, 0, 0, 0, 0, 0, 0, 0, 0, 0, 0, 0, 0, 0, 0, 0, 0, 0, 0, 0, 0, 0, 0, 0, 0, 0, 0, 0, 0, 0, 0, 0, 0, 0, 0, 0, 0, 0, 0, 0, 0, 0, 0, 0, 0, 0, 0, 0, 0, 0, 0, 0, 0, 0, 0, 0, 0, 0, 0, 0, 0, 0, 0, 0, 0, 0, 0, 0, 0, 0, 0, 0, 0, 0, 0, 0, 0, 0, 0, 0, 0, 0, 0, 0, 0, 0, 0, 0, 0, 0, 0, 0, 0, 0, 0, 0, 0, 0, 0, 0, 0, 0, 0, 0, 0, 0, 0, 0, 0, 0, 0, 0, 0, 0, 0, 0, 0, 0, 0, 0, 0, 0, 0, 0, 0, 0, 0, 0, 0, 0, 0, 0, 0, 0, 0, 0, 0, 0, 0, 0, 0, 0, 0, 0, 0, 0, 0, 0, 0, 0, 0, 0, 0, 0, 0, 0, 0, 0, 0, 0, 0, 0, 0, 0, 0, 0, 0, 0, 0, 0, 0, 0, 0, 0, 0, 0, 0, 0, 0, 0, 0, 0, 0, 0, 0, 0, 0, 0, 0, 0, 0, 0, 0, 0, 0, 0, 0, 0, 0, 0, 0, 0, 0, 0, 0, 0, 0, 0, 0, 0, 0, 0, 0, 0, 0, 0, 0, 0, 0, 0, 0, 0, 0, 0, 0, 0, 0, 0, 0, 0, 0, 0, 0, 0, 0, 0, 0, 0, 0, 0, 0, 0, 0, 0, 0, 0, 0, 0, 0, 0, 0, 0, 0, 0, 0, 0, 0, 0, 0, 0, 0, 0, 0, 0, 0, 0, 0, 0, 0, 0, 0, 0, 0, 0, 0, 0, 0, 0, 0, 0, 0, 0, 0, 0, 0, 0, 0, 0, 0, 0, 0, 0, 0, 0, 0, 0, 0, 0, 0, 0, 0, 0, 0, 0, 0, 0, 0, 0, 0, 0, 0]\n"
     ]
    }
   ],
   "source": [
    "print(list(dados_ractest_filtrado.isnull().sum()))"
   ]
  },
  {
   "cell_type": "markdown",
   "id": "e10c19f3",
   "metadata": {},
   "source": [
    "## 3 - Tratamento de Dados\n",
    "___"
   ]
  },
  {
   "cell_type": "markdown",
   "id": "bd7ddec7",
   "metadata": {},
   "source": [
    "### Antes da diversão, alguns ajustes..."
   ]
  },
  {
   "cell_type": "markdown",
   "id": "619291da",
   "metadata": {},
   "source": [
    "Para a implementação do `VIF` é necessário dados numéricos e nosso dataset possui uma mescla de dados str e dados int/float. Alguns dados str/object devem ser mantidos e para isso vamos realizar uma conversão simbólico-numérico, este é o caso do `metal`. A coluna `linker1smi` será transformada em um número com o auxílio da biblioteca `rdkit` com o módulo `Chem`."
   ]
  },
  {
   "cell_type": "code",
   "execution_count": 1117,
   "id": "f26e9c8a",
   "metadata": {},
   "outputs": [],
   "source": [
    "lista_rac = list(dados_ractrain_filtrado.columns)\n",
    "lista_rac.remove('mof')"
   ]
  },
  {
   "cell_type": "code",
   "execution_count": 1118,
   "id": "b14fce50",
   "metadata": {},
   "outputs": [],
   "source": [
    "lista= list(dados_fingertrain_filtrado.columns)\n",
    "lista.remove('mof')"
   ]
  },
  {
   "cell_type": "code",
   "execution_count": 1119,
   "id": "f4a588c3",
   "metadata": {},
   "outputs": [],
   "source": [
    "lista_teste = list(dados_fingertest_filtrado.columns)\n",
    "lista_teste.remove('mof')"
   ]
  },
  {
   "cell_type": "code",
   "execution_count": 1120,
   "id": "a27f8fc3",
   "metadata": {},
   "outputs": [],
   "source": [
    "lista_rac_teste = list(dados_ractest_filtrado)\n",
    "lista_rac_teste.remove('mof')"
   ]
  },
  {
   "cell_type": "code",
   "execution_count": 1121,
   "id": "477d118d",
   "metadata": {},
   "outputs": [],
   "source": [
    "treino_finger_cp = dados_fingertrain_filtrado[lista]\n",
    "treino_rac_cp = dados_ractrain_filtrado[lista_rac]\n",
    "teste_finger_cp = dados_fingertest_filtrado[lista_teste]\n",
    "teste_rac_cp = dados_ractest_filtrado[lista_rac_teste]"
   ]
  },
  {
   "cell_type": "markdown",
   "id": "0644b2c5",
   "metadata": {},
   "source": [
    "## <font color='red'>Atenção!</font>\n",
    "Os códigos abaixo que dizem respeito à exploração dos dados contidos na coluna `linker1smi` foram baseados nos códigos de um usuário do KAGGLE `Marquis03`."
   ]
  },
  {
   "cell_type": "markdown",
   "id": "a3289608",
   "metadata": {},
   "source": [
    "Como era de se imaginar, ele adicionou uma coluna para cada bit do fingerprint. Sabendo que todas as informações que necessitamos foram recolhidas, não vejo a necessidade de aumentar tanto o número de `Features` do nosso dataset."
   ]
  },
  {
   "cell_type": "code",
   "execution_count": 1125,
   "id": "c240e157",
   "metadata": {},
   "outputs": [],
   "source": [
    "def stri_to_mol(df, with_linker1smi=False):\n",
    "    \n",
    "    if with_linker1smi==False:\n",
    "        #print('Estou no if false')\n",
    "        molecula = df['linker1smi'].apply(Chem.MolFromSmiles)\n",
    "        df = df.drop('linker1smi', axis=1)\n",
    "        df = df.drop('metal', axis=1)\n",
    "        #print('Df antes de novos_parametros', df) #debug\n",
    "        parametros_novos(df, molecula)\n",
    "        #print('Df depois de novos_parametros', df)#debug\n",
    "    if with_linker1smi==True:\n",
    "        \n",
    "        molecula = df['linker1smi'].apply(Chem.MolFromSmiles)\n",
    "        df =df.drop('metal', axis=1)\n",
    "        fingerprint = lambda x: al.GetMorganFingerprintAsBitVect(x, 3)\n",
    "        #baseado no código do Marquis03\n",
    "        fingerprint1 = np.array(molecula.apply(fingerprint).tolist())             \n",
    "        fingerprint1 = pd.DataFrame(fingerprint1).add_prefix(\"fp1_\")\n",
    "        fingerprint1.index = df.index\n",
    "        df =df.drop('linker1smi', axis=1)\n",
    "        df = pd.concat([df, fingerprint1], axis=1)\n",
    "        #Fim\n",
    "        parametros_novos(df, molecula)\n",
    "    \n",
    "    return df\n",
    "    \n",
    "def parametros_novos(df, molecula):\n",
    "    df['Peso Molecula'] = molecula.apply(Descriptors.ExactMolWt)\n",
    "    df['TPSA'] = molecula.apply(Chem.rdMolDescriptors.CalcTPSA) #Total Superficial Polar Area\n",
    "    df['HBA'] = molecula.apply(Chem.rdMolDescriptors.CalcNumHBA) #Hidrogen bond acceptors\n",
    "    df['HBD'] = molecula.apply(Chem.rdMolDescriptors.CalcNumHBD) #Hidrogen bond donnors\n",
    "    df['LogP'] = molecula.apply(Descriptors.MolLogP) #calculus the hidrophobicity\n",
    "    df['RotnBond'] = molecula.apply(Chem.rdMolDescriptors.CalcNumRotatableBonds) #calculus the number of rotation bonds"
   ]
  },
  {
   "cell_type": "code",
   "execution_count": 1126,
   "id": "a363595b",
   "metadata": {},
   "outputs": [],
   "source": [
    "treino_finger_with_linker = treino_finger_cp.copy()\n",
    "teste_finger_with_linker = teste_finger_cp.copy()"
   ]
  },
  {
   "cell_type": "code",
   "execution_count": 1127,
   "id": "9f6558fc",
   "metadata": {
    "tags": []
   },
   "outputs": [],
   "source": [
    "treino_finger_cp = stri_to_mol(treino_finger_cp)\n",
    "teste_finger_cp = stri_to_mol(teste_finger_cp)\n",
    "treino_finger_with_linker = stri_to_mol(treino_finger_with_linker, with_linker1smi =True)\n",
    "teste_finger_with_linker = stri_to_mol(teste_finger_with_linker, with_linker1smi =True)"
   ]
  },
  {
   "cell_type": "markdown",
   "id": "1cbede51",
   "metadata": {},
   "source": [
    "Com os valores de `linker1smi` convertidos, temos agora todas as informações sobre cada molécula presente no `dataset`. Do código que nos baseamos, ele adicionava os dados do array do `fingerprint` como colunas separadamente. Vamos tentar partir de outro ponto, nós vamos retirar a coluna `linker1smi` e realizar o VIF para diminuir a multicolinearidade e o número de dimensões."
   ]
  },
  {
   "cell_type": "markdown",
   "id": "cbf217ca",
   "metadata": {},
   "source": [
    "## 4 - Reduzindo a Dimensionalidade com o VIF\n",
    "___"
   ]
  },
  {
   "cell_type": "code",
   "execution_count": 1128,
   "id": "d35e4cc6",
   "metadata": {},
   "outputs": [],
   "source": [
    "#Créditos: Daniel Roberto Cassar\n",
    "from sklearn.linear_model import LinearRegression\n",
    "\n",
    "def selecao_vif(df_atributos, limiar_vif):\n",
    "    \"\"\"Realiza a seleção de atributos por VIF.\n",
    "\n",
    "    Args:\n",
    "      df_atributos: DataFrame contendo os atributos.\n",
    "      limiar_vf: valor do limiar do vif. Número positivo. Usualmente é 5 ou 10.\n",
    "\n",
    "    Returns:\n",
    "      DataFrame com os atributos selecionados.\n",
    "    \"\"\"\n",
    "\n",
    "    df = df_atributos.copy()\n",
    "\n",
    "    while True:\n",
    "        VIFs = []\n",
    "\n",
    "        for col in df.columns:\n",
    "            X = df.drop(col, axis=1).values\n",
    "            y = df[col].values\n",
    "\n",
    "            r_quadrado = LinearRegression().fit(X, y).score(X, y)\n",
    "\n",
    "            if r_quadrado != 1:\n",
    "                VIF = 1 / (1 - r_quadrado)\n",
    "            else:\n",
    "                VIF = float(\"inf\")\n",
    "\n",
    "            VIFs.append(VIF)\n",
    "\n",
    "        VIF_maximo = max(VIFs)\n",
    "\n",
    "        if VIF_maximo > limiar_vif:\n",
    "            indice = VIFs.index(VIF_maximo)\n",
    "            coluna_remocao = df.columns[indice]\n",
    "            df = df.drop(coluna_remocao, axis=1)\n",
    "        else:\n",
    "            break\n",
    "\n",
    "    return df"
   ]
  },
  {
   "cell_type": "code",
   "execution_count": 1129,
   "id": "ff9f737c",
   "metadata": {},
   "outputs": [],
   "source": [
    "#from cod_izaque import selecao_fif\n",
    "#VIF para dados_treino_finger\n",
    "LIMIAR_VIF = 5\n",
    "\n",
    "VIF_treino_finger = selecao_vif(treino_finger_cp, LIMIAR_VIF)"
   ]
  },
  {
   "cell_type": "code",
   "execution_count": 1130,
   "id": "202f8d11",
   "metadata": {
    "tags": []
   },
   "outputs": [
    {
     "data": {
      "text/html": [
       "<div>\n",
       "<style scoped>\n",
       "    .dataframe tbody tr th:only-of-type {\n",
       "        vertical-align: middle;\n",
       "    }\n",
       "\n",
       "    .dataframe tbody tr th {\n",
       "        vertical-align: top;\n",
       "    }\n",
       "\n",
       "    .dataframe thead th {\n",
       "        text-align: right;\n",
       "    }\n",
       "</style>\n",
       "<table border=\"1\" class=\"dataframe\">\n",
       "  <thead>\n",
       "    <tr style=\"text-align: right;\">\n",
       "      <th></th>\n",
       "      <th>4s</th>\n",
       "      <th>3p</th>\n",
       "      <th>3d</th>\n",
       "      <th>4d</th>\n",
       "      <th>5d</th>\n",
       "      <th>4f</th>\n",
       "      <th>oxidation_state</th>\n",
       "      <th>temperature</th>\n",
       "      <th>time</th>\n",
       "      <th>HBA</th>\n",
       "      <th>HBD</th>\n",
       "      <th>LogP</th>\n",
       "    </tr>\n",
       "  </thead>\n",
       "  <tbody>\n",
       "    <tr>\n",
       "      <th>0</th>\n",
       "      <td>2</td>\n",
       "      <td>6</td>\n",
       "      <td>10</td>\n",
       "      <td>0</td>\n",
       "      <td>0</td>\n",
       "      <td>0</td>\n",
       "      <td>2</td>\n",
       "      <td>110</td>\n",
       "      <td>72.0</td>\n",
       "      <td>4</td>\n",
       "      <td>2</td>\n",
       "      <td>10.21540</td>\n",
       "    </tr>\n",
       "    <tr>\n",
       "      <th>1</th>\n",
       "      <td>2</td>\n",
       "      <td>6</td>\n",
       "      <td>10</td>\n",
       "      <td>0</td>\n",
       "      <td>0</td>\n",
       "      <td>0</td>\n",
       "      <td>2</td>\n",
       "      <td>85</td>\n",
       "      <td>72.0</td>\n",
       "      <td>2</td>\n",
       "      <td>0</td>\n",
       "      <td>2.26180</td>\n",
       "    </tr>\n",
       "    <tr>\n",
       "      <th>2</th>\n",
       "      <td>1</td>\n",
       "      <td>6</td>\n",
       "      <td>10</td>\n",
       "      <td>0</td>\n",
       "      <td>0</td>\n",
       "      <td>0</td>\n",
       "      <td>2</td>\n",
       "      <td>80</td>\n",
       "      <td>24.0</td>\n",
       "      <td>15</td>\n",
       "      <td>6</td>\n",
       "      <td>8.61990</td>\n",
       "    </tr>\n",
       "    <tr>\n",
       "      <th>3</th>\n",
       "      <td>2</td>\n",
       "      <td>6</td>\n",
       "      <td>10</td>\n",
       "      <td>10</td>\n",
       "      <td>0</td>\n",
       "      <td>10</td>\n",
       "      <td>3</td>\n",
       "      <td>95</td>\n",
       "      <td>24.0</td>\n",
       "      <td>2</td>\n",
       "      <td>2</td>\n",
       "      <td>3.38940</td>\n",
       "    </tr>\n",
       "    <tr>\n",
       "      <th>4</th>\n",
       "      <td>2</td>\n",
       "      <td>6</td>\n",
       "      <td>10</td>\n",
       "      <td>0</td>\n",
       "      <td>0</td>\n",
       "      <td>0</td>\n",
       "      <td>2</td>\n",
       "      <td>80</td>\n",
       "      <td>72.0</td>\n",
       "      <td>2</td>\n",
       "      <td>1</td>\n",
       "      <td>-0.19530</td>\n",
       "    </tr>\n",
       "    <tr>\n",
       "      <th>...</th>\n",
       "      <td>...</td>\n",
       "      <td>...</td>\n",
       "      <td>...</td>\n",
       "      <td>...</td>\n",
       "      <td>...</td>\n",
       "      <td>...</td>\n",
       "      <td>...</td>\n",
       "      <td>...</td>\n",
       "      <td>...</td>\n",
       "      <td>...</td>\n",
       "      <td>...</td>\n",
       "      <td>...</td>\n",
       "    </tr>\n",
       "    <tr>\n",
       "      <th>507</th>\n",
       "      <td>1</td>\n",
       "      <td>6</td>\n",
       "      <td>10</td>\n",
       "      <td>0</td>\n",
       "      <td>0</td>\n",
       "      <td>0</td>\n",
       "      <td>2</td>\n",
       "      <td>65</td>\n",
       "      <td>48.0</td>\n",
       "      <td>9</td>\n",
       "      <td>0</td>\n",
       "      <td>-0.35750</td>\n",
       "    </tr>\n",
       "    <tr>\n",
       "      <th>508</th>\n",
       "      <td>2</td>\n",
       "      <td>6</td>\n",
       "      <td>7</td>\n",
       "      <td>0</td>\n",
       "      <td>0</td>\n",
       "      <td>0</td>\n",
       "      <td>2</td>\n",
       "      <td>140</td>\n",
       "      <td>72.0</td>\n",
       "      <td>4</td>\n",
       "      <td>4</td>\n",
       "      <td>-0.41660</td>\n",
       "    </tr>\n",
       "    <tr>\n",
       "      <th>509</th>\n",
       "      <td>1</td>\n",
       "      <td>6</td>\n",
       "      <td>10</td>\n",
       "      <td>0</td>\n",
       "      <td>0</td>\n",
       "      <td>0</td>\n",
       "      <td>2</td>\n",
       "      <td>90</td>\n",
       "      <td>24.0</td>\n",
       "      <td>3</td>\n",
       "      <td>3</td>\n",
       "      <td>9.24180</td>\n",
       "    </tr>\n",
       "    <tr>\n",
       "      <th>511</th>\n",
       "      <td>0</td>\n",
       "      <td>0</td>\n",
       "      <td>0</td>\n",
       "      <td>0</td>\n",
       "      <td>0</td>\n",
       "      <td>0</td>\n",
       "      <td>2</td>\n",
       "      <td>120</td>\n",
       "      <td>120.0</td>\n",
       "      <td>2</td>\n",
       "      <td>2</td>\n",
       "      <td>2.23620</td>\n",
       "    </tr>\n",
       "    <tr>\n",
       "      <th>513</th>\n",
       "      <td>2</td>\n",
       "      <td>6</td>\n",
       "      <td>10</td>\n",
       "      <td>0</td>\n",
       "      <td>0</td>\n",
       "      <td>0</td>\n",
       "      <td>2</td>\n",
       "      <td>115</td>\n",
       "      <td>120.0</td>\n",
       "      <td>6</td>\n",
       "      <td>3</td>\n",
       "      <td>6.44346</td>\n",
       "    </tr>\n",
       "  </tbody>\n",
       "</table>\n",
       "<p>361 rows × 12 columns</p>\n",
       "</div>"
      ],
      "text/plain": [
       "     4s  3p  3d  4d  5d  4f  oxidation_state  temperature   time  HBA  HBD  \\\n",
       "0     2   6  10   0   0   0                2          110   72.0    4    2   \n",
       "1     2   6  10   0   0   0                2           85   72.0    2    0   \n",
       "2     1   6  10   0   0   0                2           80   24.0   15    6   \n",
       "3     2   6  10  10   0  10                3           95   24.0    2    2   \n",
       "4     2   6  10   0   0   0                2           80   72.0    2    1   \n",
       "..   ..  ..  ..  ..  ..  ..              ...          ...    ...  ...  ...   \n",
       "507   1   6  10   0   0   0                2           65   48.0    9    0   \n",
       "508   2   6   7   0   0   0                2          140   72.0    4    4   \n",
       "509   1   6  10   0   0   0                2           90   24.0    3    3   \n",
       "511   0   0   0   0   0   0                2          120  120.0    2    2   \n",
       "513   2   6  10   0   0   0                2          115  120.0    6    3   \n",
       "\n",
       "         LogP  \n",
       "0    10.21540  \n",
       "1     2.26180  \n",
       "2     8.61990  \n",
       "3     3.38940  \n",
       "4    -0.19530  \n",
       "..        ...  \n",
       "507  -0.35750  \n",
       "508  -0.41660  \n",
       "509   9.24180  \n",
       "511   2.23620  \n",
       "513   6.44346  \n",
       "\n",
       "[361 rows x 12 columns]"
      ]
     },
     "execution_count": 1130,
     "metadata": {},
     "output_type": "execute_result"
    }
   ],
   "source": [
    "VIF_treino_finger #DATASET DE TREINO 1"
   ]
  },
  {
   "cell_type": "code",
   "execution_count": 1131,
   "id": "f1dc67f1",
   "metadata": {},
   "outputs": [],
   "source": [
    "#from cod_izaque import selecao_fif\n",
    "#VIF para dados_treino_finger\n",
    "LIMIAR_VIF = 5\n",
    "\n",
    "VIF_teste_finger = selecao_vif(teste_finger_cp, LIMIAR_VIF)"
   ]
  },
  {
   "cell_type": "code",
   "execution_count": 1132,
   "id": "ab26df5e",
   "metadata": {
    "tags": []
   },
   "outputs": [
    {
     "data": {
      "text/html": [
       "<div>\n",
       "<style scoped>\n",
       "    .dataframe tbody tr th:only-of-type {\n",
       "        vertical-align: middle;\n",
       "    }\n",
       "\n",
       "    .dataframe tbody tr th {\n",
       "        vertical-align: top;\n",
       "    }\n",
       "\n",
       "    .dataframe thead th {\n",
       "        text-align: right;\n",
       "    }\n",
       "</style>\n",
       "<table border=\"1\" class=\"dataframe\">\n",
       "  <thead>\n",
       "    <tr style=\"text-align: right;\">\n",
       "      <th></th>\n",
       "      <th>4s</th>\n",
       "      <th>6s</th>\n",
       "      <th>3p</th>\n",
       "      <th>6p</th>\n",
       "      <th>3d</th>\n",
       "      <th>4d</th>\n",
       "      <th>5d</th>\n",
       "      <th>oxidation_state</th>\n",
       "      <th>Peso Molecula</th>\n",
       "      <th>HBD</th>\n",
       "      <th>LogP</th>\n",
       "      <th>RotnBond</th>\n",
       "    </tr>\n",
       "  </thead>\n",
       "  <tbody>\n",
       "    <tr>\n",
       "      <th>0</th>\n",
       "      <td>2</td>\n",
       "      <td>0</td>\n",
       "      <td>6</td>\n",
       "      <td>0</td>\n",
       "      <td>10</td>\n",
       "      <td>0</td>\n",
       "      <td>0</td>\n",
       "      <td>2</td>\n",
       "      <td>135.054495</td>\n",
       "      <td>2</td>\n",
       "      <td>-0.06490</td>\n",
       "      <td>0</td>\n",
       "    </tr>\n",
       "    <tr>\n",
       "      <th>1</th>\n",
       "      <td>1</td>\n",
       "      <td>0</td>\n",
       "      <td>6</td>\n",
       "      <td>0</td>\n",
       "      <td>10</td>\n",
       "      <td>0</td>\n",
       "      <td>0</td>\n",
       "      <td>2</td>\n",
       "      <td>570.079826</td>\n",
       "      <td>6</td>\n",
       "      <td>4.87680</td>\n",
       "      <td>9</td>\n",
       "    </tr>\n",
       "    <tr>\n",
       "      <th>2</th>\n",
       "      <td>0</td>\n",
       "      <td>0</td>\n",
       "      <td>0</td>\n",
       "      <td>0</td>\n",
       "      <td>0</td>\n",
       "      <td>0</td>\n",
       "      <td>0</td>\n",
       "      <td>2</td>\n",
       "      <td>216.042259</td>\n",
       "      <td>2</td>\n",
       "      <td>2.23620</td>\n",
       "      <td>2</td>\n",
       "    </tr>\n",
       "    <tr>\n",
       "      <th>3</th>\n",
       "      <td>2</td>\n",
       "      <td>2</td>\n",
       "      <td>6</td>\n",
       "      <td>0</td>\n",
       "      <td>10</td>\n",
       "      <td>10</td>\n",
       "      <td>1</td>\n",
       "      <td>3</td>\n",
       "      <td>398.101505</td>\n",
       "      <td>4</td>\n",
       "      <td>4.16960</td>\n",
       "      <td>4</td>\n",
       "    </tr>\n",
       "    <tr>\n",
       "      <th>4</th>\n",
       "      <td>1</td>\n",
       "      <td>0</td>\n",
       "      <td>6</td>\n",
       "      <td>0</td>\n",
       "      <td>10</td>\n",
       "      <td>0</td>\n",
       "      <td>0</td>\n",
       "      <td>1</td>\n",
       "      <td>167.021858</td>\n",
       "      <td>2</td>\n",
       "      <td>0.47800</td>\n",
       "      <td>2</td>\n",
       "    </tr>\n",
       "    <tr>\n",
       "      <th>...</th>\n",
       "      <td>...</td>\n",
       "      <td>...</td>\n",
       "      <td>...</td>\n",
       "      <td>...</td>\n",
       "      <td>...</td>\n",
       "      <td>...</td>\n",
       "      <td>...</td>\n",
       "      <td>...</td>\n",
       "      <td>...</td>\n",
       "      <td>...</td>\n",
       "      <td>...</td>\n",
       "      <td>...</td>\n",
       "    </tr>\n",
       "    <tr>\n",
       "      <th>129</th>\n",
       "      <td>2</td>\n",
       "      <td>0</td>\n",
       "      <td>6</td>\n",
       "      <td>6</td>\n",
       "      <td>0</td>\n",
       "      <td>0</td>\n",
       "      <td>0</td>\n",
       "      <td>3</td>\n",
       "      <td>351.915275</td>\n",
       "      <td>0</td>\n",
       "      <td>-2.03445</td>\n",
       "      <td>3</td>\n",
       "    </tr>\n",
       "    <tr>\n",
       "      <th>130</th>\n",
       "      <td>2</td>\n",
       "      <td>0</td>\n",
       "      <td>6</td>\n",
       "      <td>0</td>\n",
       "      <td>6</td>\n",
       "      <td>0</td>\n",
       "      <td>0</td>\n",
       "      <td>3</td>\n",
       "      <td>353.031388</td>\n",
       "      <td>1</td>\n",
       "      <td>-1.35430</td>\n",
       "      <td>6</td>\n",
       "    </tr>\n",
       "    <tr>\n",
       "      <th>131</th>\n",
       "      <td>0</td>\n",
       "      <td>0</td>\n",
       "      <td>6</td>\n",
       "      <td>0</td>\n",
       "      <td>5</td>\n",
       "      <td>0</td>\n",
       "      <td>0</td>\n",
       "      <td>2</td>\n",
       "      <td>508.063638</td>\n",
       "      <td>0</td>\n",
       "      <td>-3.48200</td>\n",
       "      <td>8</td>\n",
       "    </tr>\n",
       "    <tr>\n",
       "      <th>132</th>\n",
       "      <td>2</td>\n",
       "      <td>0</td>\n",
       "      <td>6</td>\n",
       "      <td>0</td>\n",
       "      <td>10</td>\n",
       "      <td>10</td>\n",
       "      <td>0</td>\n",
       "      <td>2</td>\n",
       "      <td>508.063638</td>\n",
       "      <td>0</td>\n",
       "      <td>-3.48200</td>\n",
       "      <td>8</td>\n",
       "    </tr>\n",
       "    <tr>\n",
       "      <th>133</th>\n",
       "      <td>1</td>\n",
       "      <td>0</td>\n",
       "      <td>6</td>\n",
       "      <td>0</td>\n",
       "      <td>10</td>\n",
       "      <td>0</td>\n",
       "      <td>0</td>\n",
       "      <td>2</td>\n",
       "      <td>163.004231</td>\n",
       "      <td>0</td>\n",
       "      <td>-1.78621</td>\n",
       "      <td>2</td>\n",
       "    </tr>\n",
       "  </tbody>\n",
       "</table>\n",
       "<p>134 rows × 12 columns</p>\n",
       "</div>"
      ],
      "text/plain": [
       "     4s  6s  3p  6p  3d  4d  5d  oxidation_state  Peso Molecula  HBD     LogP  \\\n",
       "0     2   0   6   0  10   0   0                2     135.054495    2 -0.06490   \n",
       "1     1   0   6   0  10   0   0                2     570.079826    6  4.87680   \n",
       "2     0   0   0   0   0   0   0                2     216.042259    2  2.23620   \n",
       "3     2   2   6   0  10  10   1                3     398.101505    4  4.16960   \n",
       "4     1   0   6   0  10   0   0                1     167.021858    2  0.47800   \n",
       "..   ..  ..  ..  ..  ..  ..  ..              ...            ...  ...      ...   \n",
       "129   2   0   6   6   0   0   0                3     351.915275    0 -2.03445   \n",
       "130   2   0   6   0   6   0   0                3     353.031388    1 -1.35430   \n",
       "131   0   0   6   0   5   0   0                2     508.063638    0 -3.48200   \n",
       "132   2   0   6   0  10  10   0                2     508.063638    0 -3.48200   \n",
       "133   1   0   6   0  10   0   0                2     163.004231    0 -1.78621   \n",
       "\n",
       "     RotnBond  \n",
       "0           0  \n",
       "1           9  \n",
       "2           2  \n",
       "3           4  \n",
       "4           2  \n",
       "..        ...  \n",
       "129         3  \n",
       "130         6  \n",
       "131         8  \n",
       "132         8  \n",
       "133         2  \n",
       "\n",
       "[134 rows x 12 columns]"
      ]
     },
     "execution_count": 1132,
     "metadata": {},
     "output_type": "execute_result"
    }
   ],
   "source": [
    "VIF_teste_finger #DATASET DE TESTE 1"
   ]
  },
  {
   "cell_type": "markdown",
   "id": "9d858d7b",
   "metadata": {
    "tags": []
   },
   "source": [
    "## 5 - Separando `TARGET` e `FEATURES`\n",
    "___"
   ]
  },
  {
   "cell_type": "code",
   "execution_count": null,
   "id": "7e779466-7853-48d1-8104-f5e26845c1dd",
   "metadata": {},
   "outputs": [],
   "source": [
    "TAMANHO_TESTE = 0.1\n",
    "TAMANHO_VALIDACAO = 0.2\n",
    "SEMENTE_ALEATORIA = 1234567890"
   ]
  },
  {
   "cell_type": "code",
   "execution_count": null,
   "id": "e1fb8aa8",
   "metadata": {},
   "outputs": [],
   "source": [
    "TARGET_treino = VIF_treino_finger[['temperature', 'time']]\n",
    "\n",
    "colunas = list(VIF_treino_finger.columns)\n",
    "colunas.remove('temperature')\n",
    "colunas.remove('time')\n",
    "\n",
    "FEATURES_treino = VIF_treino_finger[colunas]\n",
    "\n",
    "TARGET_teste = VIF_teste_finger[['temperature', 'time']]\n",
    "\n",
    "colunas = list(VIF_teste_finger.columns)\n",
    "colunas.remove('temperature')\n",
    "colunas.remove('time')\n",
    "\n",
    "FEATURES_teste = VIF_treino_finger[colunas]\n",
    "\n",
    "# SPLITANDO PARA SEPARAR DF DE VALIDAÇÃO\n",
    "\n",
    "FEATURES_teste, FEATURES_validacao, TARGET_teste, TARGET_validacao = train_test_split(FEATURES_teste, TARGET_teste, test_size=TAMANHO_VALIDACAO, random_state=SEMENTE_ALEATORIA)"
   ]
  },
  {
   "cell_type": "markdown",
   "id": "56c2fb44-fbc8-4ab3-a6bd-f080de7e8a29",
   "metadata": {},
   "source": [
    "### Normalização e Transformação em tensor"
   ]
  },
  {
   "cell_type": "code",
   "execution_count": null,
   "id": "9722dd4d-938d-4228-9ff5-14d764eb897b",
   "metadata": {
    "tags": []
   },
   "outputs": [],
   "source": [
    "# NORMALIZANDO DE -1 a 1 PQ QUEREMOS GRANDEZAS QUE VALEM 0 CONTINUEM 0.\n",
    "x_padrao = MaxAbsScaler()\n",
    "x_padrao.fit(FEATURES_treino)\n",
    "\n",
    "y_padrao = MaxAbsScaler()\n",
    "y_padrao.fit(TARGET_treino)\n",
    "\n",
    "FEATURES_treino = x_padrao.transform(FEATURES_treino)\n",
    "TARGET_treino = y_padrao.transform(TARGET_treino)\n",
    "\n",
    "FEATURES_validacao = x_padrao.transform(FEATURES_validacao)\n",
    "TARGET_validacao = y_padrao.transform(TARGET_validacao)\n",
    "\n",
    "FEATURES_teste = x_padrao.transform(FEATURES_teste)\n",
    "TARGET_teste = y_padrao.transform(TARGET_teste)"
   ]
  },
  {
   "cell_type": "code",
   "execution_count": null,
   "id": "e6bb05a4-03e0-4fb6-8e7a-4147e7c3217b",
   "metadata": {
    "tags": []
   },
   "outputs": [],
   "source": [
    "# TORNANDO-O TENSOR\n",
    "FEATURES_treino = torch.tensor(FEATURES_treino, dtype=torch.float32)\n",
    "TARGET_treino = torch.tensor(TARGET_treino, dtype=torch.float32)\n",
    "\n",
    "FEATURES_teste = torch.tensor(FEATURES_teste, dtype=torch.float32)\n",
    "TARGET_teste = torch.tensor(TARGET_teste, dtype=torch.float32)\n",
    "\n",
    "FEATURES_validacao = torch.tensor(FEATURES_validacao, dtype=torch.float32)\n",
    "TARGET_validacao = torch.tensor(TARGET_validacao, dtype=torch.float32)"
   ]
  },
  {
   "cell_type": "markdown",
   "id": "2b1a5e1f",
   "metadata": {},
   "source": [
    "___\n",
    "## <font color='red'>Atenção!</font>\n",
    "\n",
    "Os códigos abaixo foram escritos/inspirados a partir dos códigos dos cadernos jupyter do professor Daniel Roberto Cassar$.^{[ref]}$\n",
    "___"
   ]
  },
  {
   "cell_type": "markdown",
   "id": "1b9d7e5b",
   "metadata": {},
   "source": [
    "## 6 - Implementação da Rede Neural\n",
    "___"
   ]
  },
  {
   "cell_type": "markdown",
   "id": "9a1e6ed4-af4e-488e-af83-4c2dca2afcc1",
   "metadata": {},
   "source": [
    "### `DataModule` Simplificado"
   ]
  },
  {
   "cell_type": "code",
   "execution_count": null,
   "id": "87e2bb69-b76c-4c6a-a94b-00b371f2b814",
   "metadata": {},
   "outputs": [],
   "source": [
    "#Código escrito por Daniel Roberto Cassar\n",
    "class DataModule(L.LightningDataModule):  \n",
    "    def __init__(\n",
    "        self,\n",
    "        X_treino,\n",
    "        y_treino,\n",
    "        X_val,\n",
    "        y_val,\n",
    "        X_teste,\n",
    "        y_teste,\n",
    "        tamanho_lote = 256,\n",
    "        num_trabalhadores = 2,\n",
    "    ):\n",
    "        super().__init__()\n",
    "\n",
    "        self.tamanho_lote = tamanho_lote\n",
    "        self.num_trabalhadores = num_trabalhadores\n",
    "\n",
    "        self.X_treino = X_treino\n",
    "        self.y_treino = y_treino\n",
    "        self.X_val = X_val\n",
    "        self.y_val = y_val\n",
    "        self.X_teste = X_teste\n",
    "        self.y_teste = y_teste\n",
    "\n",
    "    def train_dataloader(self):\n",
    "        return DataLoader(\n",
    "            TensorDataset(self.X_treino, self.y_treino),\n",
    "            batch_size=self.tamanho_lote,\n",
    "            num_workers=self.num_trabalhadores,\n",
    "        )\n",
    "\n",
    "    def val_dataloader(self):\n",
    "        return DataLoader(\n",
    "            TensorDataset(self.X_val, self.y_val),\n",
    "            batch_size=self.tamanho_lote,\n",
    "            num_workers=self.num_trabalhadores,\n",
    "        )\n",
    "\n",
    "    def test_dataloader(self):\n",
    "        return DataLoader(\n",
    "            TensorDataset(self.X_teste, self.y_teste),\n",
    "            batch_size=self.tamanho_lote,\n",
    "            num_workers=self.num_trabalhadores,\n",
    "        )"
   ]
  },
  {
   "cell_type": "markdown",
   "id": "ec767418-93a6-4fe9-83f9-e210ecd56496",
   "metadata": {},
   "source": [
    "### Criando a Rede Neural com `Pytorch Lightning`"
   ]
  },
  {
   "cell_type": "code",
   "execution_count": null,
   "id": "aec4337a-e335-46ff-a10e-406478c0e8e8",
   "metadata": {},
   "outputs": [],
   "source": [
    "#Código escrito por Daniel Roberto Cassar\n",
    "class MLP(L.LightningModule):\n",
    "    def __init__(\n",
    "        self, num_dados_entrada, neuronios_c1, neuronios_c2, num_targets\n",
    "    ):\n",
    "        super().__init__()\n",
    "\n",
    "        self.camadas = nn.Sequential(\n",
    "            nn.Linear(num_dados_entrada, neuronios_c1),\n",
    "            nn.Sigmoid(),\n",
    "            nn.Linear(neuronios_c1, neuronios_c2),\n",
    "            nn.Sigmoid(),\n",
    "            nn.Linear(neuronios_c2, num_targets),\n",
    "        )\n",
    "\n",
    "        self.fun_perda = F.mse_loss\n",
    "\n",
    "        self.perdas_treino = []\n",
    "        self.perdas_val = []\n",
    "\n",
    "        self.curva_aprendizado_treino = []\n",
    "        self.curva_aprendizado_val = []\n",
    "\n",
    "    def forward(self, x):\n",
    "        x = self.camadas(x)\n",
    "        return x\n",
    "\n",
    "    def training_step(self, batch, batch_idx):\n",
    "        x, y = batch\n",
    "        y_pred = self(x)\n",
    "        loss = self.fun_perda(y, y_pred)\n",
    "\n",
    "        self.log(\"loss\", loss, prog_bar=True)\n",
    "        self.perdas_treino.append(loss)\n",
    "\n",
    "        return loss\n",
    "\n",
    "    def validation_step(self, batch, batch_idx):\n",
    "        x, y = batch\n",
    "        y_pred = self(x)\n",
    "        loss = self.fun_perda(y, y_pred)\n",
    "\n",
    "        self.log(\"val_loss\", loss, prog_bar=True)\n",
    "        self.perdas_val.append(loss)\n",
    "\n",
    "        return loss\n",
    "\n",
    "    def test_step(self, batch, batch_idx):\n",
    "        x, y = batch\n",
    "        y_pred = self(x)\n",
    "        loss = self.fun_perda(y, y_pred)\n",
    "\n",
    "        self.log(\"test_loss\", loss)\n",
    "\n",
    "        return loss\n",
    "\n",
    "    def on_train_epoch_end(self):\n",
    "        perda_media = torch.stack(self.perdas_treino).mean()\n",
    "        self.curva_aprendizado_treino.append(float(perda_media))\n",
    "        self.perdas_treino.clear()\n",
    "\n",
    "    def on_validation_epoch_end(self):\n",
    "        perda_media = torch.stack(self.perdas_val).mean()\n",
    "        self.curva_aprendizado_val.append(float(perda_media))\n",
    "        self.perdas_val.clear()\n",
    "\n",
    "    def configure_optimizers(self):\n",
    "        optimizer = optim.SGD(self.parameters(), lr=1e-3)\n",
    "        return optimizer"
   ]
  },
  {
   "cell_type": "markdown",
   "id": "4d6328cb-edd9-44fa-97fb-35d5c5665164",
   "metadata": {},
   "source": [
    "### Treinando a Rede"
   ]
  },
  {
   "cell_type": "code",
   "execution_count": null,
   "id": "d591a9cf-85ca-4102-aed5-9043d1a171ea",
   "metadata": {},
   "outputs": [],
   "source": [
    "NUM_EPOCAS = 2\n",
    "TAXA_DE_APRENDIZADO = 0.5\n",
    "NUM_DADOS_DE_ENTRADA = 15\n",
    "NUM_DADOS_DE_SAIDA = 1\n",
    "NEURONIO1 = 112\n",
    "NEURONIO2 = 2\n",
    "\n",
    "treinador = L.Trainer(max_epochs=NUM_EPOCAS)\n",
    "\n",
    "dm = DataModule(FEATURES_treino, TARGET_treino, FEATURES_validacao, TARGET_validacao, FEATURES_teste, TARGET_teste) # CRIANDO INSTANCIA DATAMODULE\n",
    "\n",
    "minha_mlp = MLP(NUM_DADOS_DE_ENTRADA, NEURONIO1, NEURONIO2, NUM_DADOS_DE_SAIDA)\n",
    "# CRIANDO INSTÂNCIA DA REDE NEURAL"
   ]
  },
  {
   "cell_type": "code",
   "execution_count": null,
   "id": "c3ede984-26a0-4eb1-99df-7424c81362a9",
   "metadata": {},
   "outputs": [],
   "source": [
    "treinador.fit(minha_mlp, dm) #FITANDO E FORNECENDO (TAMBEM) UMA INSTANCIA DATAMODULE COMO\n",
    "# ARGUMENTO"
   ]
  },
  {
   "cell_type": "markdown",
   "id": "1a56033c",
   "metadata": {},
   "source": [
    "## 7 - Curva de Aprendizado\n",
    "___"
   ]
  },
  {
   "cell_type": "code",
   "execution_count": null,
   "id": "f66b0323-4e4d-4a24-bb1a-341cf2e48a1d",
   "metadata": {},
   "outputs": [],
   "source": [
    "figura, eixo = plt.subplots()\n",
    "\n",
    "ca_treino = minha_mlp.curva_aprendizado_treino\n",
    "ca_val = minha_mlp.curva_aprendizado_val\n",
    "\n",
    "eixo.plot(ca_treino, label=\"Treino\")\n",
    "eixo.plot(ca_val, label=\"Validação\")\n",
    "\n",
    "eixo.legend()\n",
    "\n",
    "eixo.set_xlim(left=0)\n",
    "\n",
    "eixo.set_title(\"Curva de aprendizado\")\n",
    "eixo.set_xlabel(\"Época\")\n",
    "eixo.set_ylabel(\"Loss\")\n",
    "#N VAI RODAR NO PCZINHO DA ILUM :("
   ]
  },
  {
   "cell_type": "markdown",
   "id": "d61e2e4b",
   "metadata": {},
   "source": [
    "## 9 - Cálculo de RMSE\n",
    "___"
   ]
  },
  {
   "cell_type": "code",
   "execution_count": null,
   "id": "7b3e041a-e5bc-4860-81a8-fa9b8cca285f",
   "metadata": {},
   "outputs": [],
   "source": [
    "minha_mlp.eval()"
   ]
  },
  {
   "cell_type": "code",
   "execution_count": null,
   "id": "4d8736cc-a37d-4956-bfe0-99d903910d35",
   "metadata": {
    "tags": []
   },
   "outputs": [],
   "source": [
    "#NÃO COMPUTA GRADIENTE LOCAL\n",
    "#COMPUTA: VALOR PREVISTO DO TARGET E DESNORMALIZA OS DADOS\n",
    "\n",
    "dm.setup(\"test\")\n",
    "\n",
    "with torch.no_grad():\n",
    "    X_true = dm.X_teste\n",
    "\n",
    "    y_true = dm.y_teste\n",
    "    y_true = dm.y_scaler.inverse_transform(y_true)\n",
    "\n",
    "    y_pred = minha_mlp(X_true)\n",
    "    y_pred = dm.y_scaler.inverse_transform(y_pred)\n",
    "\n",
    "    RMSE = mean_squared_error(y_true, y_pred, squared=False)\n",
    "\n",
    "    print(RMSE)"
   ]
  },
  {
   "cell_type": "markdown",
   "id": "2939989b",
   "metadata": {},
   "source": [
    "# 10 - Conclusão\n",
    "___"
   ]
  },
  {
   "cell_type": "code",
   "execution_count": null,
   "id": "d70cea31",
   "metadata": {},
   "outputs": [],
   "source": []
  },
  {
   "cell_type": "markdown",
   "id": "7bcea198",
   "metadata": {},
   "source": [
    "# 11 - Agradecimentos\n",
    "___"
   ]
  },
  {
   "cell_type": "code",
   "execution_count": null,
   "id": "926613f5",
   "metadata": {},
   "outputs": [],
   "source": []
  },
  {
   "cell_type": "markdown",
   "id": "3b3df298",
   "metadata": {},
   "source": [
    "# 12 - Referências Bibliográficas\n",
    "___"
   ]
  },
  {
   "cell_type": "code",
   "execution_count": null,
   "id": "13764b60",
   "metadata": {},
   "outputs": [],
   "source": []
  }
 ],
 "metadata": {
  "kernelspec": {
   "display_name": "ilumpy",
   "language": "python",
   "name": "ilumpy"
  },
  "language_info": {
   "codemirror_mode": {
    "name": "ipython",
    "version": 3
   },
   "file_extension": ".py",
   "mimetype": "text/x-python",
   "name": "python",
   "nbconvert_exporter": "python",
   "pygments_lexer": "ipython3",
   "version": "3.10.8"
  }
 },
 "nbformat": 4,
 "nbformat_minor": 5
}
